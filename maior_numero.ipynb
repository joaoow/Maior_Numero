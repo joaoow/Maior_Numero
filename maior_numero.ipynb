{
  "nbformat": 4,
  "nbformat_minor": 0,
  "metadata": {
    "colab": {
      "provenance": []
    },
    "kernelspec": {
      "name": "python3",
      "display_name": "Python 3"
    },
    "language_info": {
      "name": "python"
    }
  },
  "cells": [
    {
      "cell_type": "code",
      "execution_count": 14,
      "metadata": {
        "colab": {
          "base_uri": "https://localhost:8080/"
        },
        "id": "ypdwt3a_GZQu",
        "outputId": "6b10cd54-99a0-48bf-8c42-98c293234924"
      },
      "outputs": [
        {
          "output_type": "stream",
          "name": "stdout",
          "text": [
            "O maior númeor é: 20\n"
          ]
        }
      ],
      "source": [
        "a = 10\n",
        "b = 20\n",
        "if(a>b):\n",
        "  maior = a\n",
        "else:\n",
        "  maior = b\n",
        "print(f'O maior númeor é: {maior}')\n",
        "\n"
      ]
    }
  ]
}